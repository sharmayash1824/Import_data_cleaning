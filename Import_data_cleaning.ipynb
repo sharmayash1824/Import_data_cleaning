{
  "cells": [
    {
      "cell_type": "markdown",
      "metadata": {
        "id": "view-in-github",
        "colab_type": "text"
      },
      "source": [
        "<a href=\"https://colab.research.google.com/github/sharmayash1824/Import_data_cleaning/blob/main/Import_data_cleaning.ipynb\" target=\"_parent\"><img src=\"https://colab.research.google.com/assets/colab-badge.svg\" alt=\"Open In Colab\"/></a>"
      ]
    },
    {
      "cell_type": "code",
      "execution_count": 1,
      "metadata": {
        "colab": {
          "base_uri": "https://localhost:8080/"
        },
        "id": "7uh1pxGTrXuU",
        "outputId": "ce3ef815-34f3-4285-b3d6-5183e6615a11"
      },
      "outputs": [
        {
          "output_type": "stream",
          "name": "stdout",
          "text": [
            "Cleaned data saved to: Import_Data Analytics_cleaned.xlsx\n"
          ]
        }
      ],
      "source": [
        "import pandas as pd\n",
        "import re\n",
        "\n",
        "def clean_product_descriptions(file_path, sheet_name=0, column_name='PRODUCT DESCRIPTION'):\n",
        "    # Load the Excel file\n",
        "    df = pd.read_excel(file_path, sheet_name=sheet_name)\n",
        "\n",
        "    # Ensure the column exists\n",
        "    if column_name not in df.columns:\n",
        "        raise ValueError(f\"Column '{column_name}' not found in the Excel file.\")\n",
        "\n",
        "    # Remove leading/trailing whitespace\n",
        "    df[column_name] = df[column_name].astype(str).str.strip()\n",
        "\n",
        "    # Function to remove repetitive phrases in product descriptions while ensuring correct formatting\n",
        "    def remove_redundancy(desc):\n",
        "        words = desc.split()\n",
        "        for i in range(1, len(words)):\n",
        "            phrase = \" \".join(words[:i])\n",
        "            if desc.count(phrase) > 1:\n",
        "                cleaned_desc = desc[:desc.rfind(phrase)].strip()\n",
        "                # Ensure meaningful data is retained\n",
        "                if len(cleaned_desc) > len(desc) * 0.6:\n",
        "                    return cleaned_desc\n",
        "        return desc  # Keep original if no significant repetition found\n",
        "\n",
        "    df[column_name] = df[column_name].apply(remove_redundancy)\n",
        "\n",
        "    # Save cleaned data to a new file without dropping duplicate rows\n",
        "    output_file = file_path.replace('.xlsx', '_cleaned.xlsx')\n",
        "    df.to_excel(output_file, index=False)\n",
        "\n",
        "    print(f\"Cleaned data saved to: {output_file}\")\n",
        "    return df\n",
        "\n",
        "# Example usage\n",
        "file_path = \"Import_Data Analytics.xlsx\"  # Update this path if needed\n",
        "cleaned_df = clean_product_descriptions(file_path)\n"
      ]
    },
    {
      "cell_type": "markdown",
      "metadata": {
        "id": "ogOcrOydlS4t"
      },
      "source": [
        "Remove repeat phrases.\n"
      ]
    },
    {
      "cell_type": "code",
      "execution_count": 2,
      "metadata": {
        "colab": {
          "base_uri": "https://localhost:8080/"
        },
        "id": "n5aJ40_TPE5r",
        "outputId": "9c42e0fe-44d3-455b-a3c3-b1ec0e692217"
      },
      "outputs": [
        {
          "output_type": "stream",
          "name": "stdout",
          "text": [
            "Cleaned data saved to: Import_Data Analytics_cleaned_cleaned.xlsx\n"
          ]
        }
      ],
      "source": [
        "\n",
        "import pandas as pd\n",
        "import re\n",
        "\n",
        "def clean_product_descriptions(file_path, sheet_name=0, column_name='PRODUCT DESCRIPTION'):\n",
        "    # Load the Excel file\n",
        "    df = pd.read_excel(file_path, sheet_name=sheet_name)\n",
        "\n",
        "    # Ensure the column exists\n",
        "    if column_name not in df.columns:\n",
        "        raise ValueError(f\"Column '{column_name}' not found in the Excel file.\")\n",
        "\n",
        "    # Remove leading/trailing whitespace\n",
        "    df[column_name] = df[column_name].astype(str).str.strip()\n",
        "\n",
        "    # Function to remove repetitive phrases in product descriptions while ensuring correct formatting\n",
        "    def remove_redundancy(desc):\n",
        "        match = re.search(r'^(.*?)(?: \\1)+$', desc)\n",
        "        if match:\n",
        "            return match.group(1).strip()\n",
        "        return desc  # Keep original if no significant repetition found\n",
        "\n",
        "    df[column_name] = df[column_name].apply(remove_redundancy)\n",
        "\n",
        "    # Save cleaned data to a new file without dropping duplicate rows\n",
        "    output_file = file_path.replace('.xlsx', '_cleaned.xlsx')\n",
        "    df.to_excel(output_file, index=False)\n",
        "\n",
        "    print(f\"Cleaned data saved to: {output_file}\")\n",
        "    return df\n",
        "\n",
        "# Example usage\n",
        "file_path = \"Import_Data Analytics_cleaned.xlsx\"  # Update this path if needed\n",
        "cleaned_df = clean_product_descriptions(file_path)\n"
      ]
    },
    {
      "cell_type": "markdown",
      "metadata": {
        "id": "HdY5eVMvlYjH"
      },
      "source": [
        "Add spaces before and after parenthesis.(but not in case of \"-(\"  beacause we have some grades in this\n",
        " format\n",
        ")\n",
        ":"
      ]
    },
    {
      "cell_type": "code",
      "execution_count": 3,
      "metadata": {
        "colab": {
          "base_uri": "https://localhost:8080/"
        },
        "id": "1eGrwXzKRfKq",
        "outputId": "80d3f248-b787-46b9-b49b-18fe5c0adbb8"
      },
      "outputs": [
        {
          "output_type": "stream",
          "name": "stdout",
          "text": [
            "File saved as cleaned_file.xlsx\n"
          ]
        }
      ],
      "source": [
        "import pandas as pd\n",
        "import re\n",
        "\n",
        "# Function to ensure proper spacing around parentheses\n",
        "def fix_parentheses_spacing(text):\n",
        "    # Case 1: If '(' is preceded by '-', only add space after '('\n",
        "    text = re.sub(r'-(\\()', r'- (', text)\n",
        "\n",
        "    # Case 2: Ensure spaces before and after '(' except when preceded by '-'\n",
        "    text = re.sub(r'(?<!-)(\\S)\\(', r'\\1 ( ', text)  # Add space before '(' if not after '-'\n",
        "\n",
        "    # Case 3: Ensure spaces before and after ')'\n",
        "    text = re.sub(r'\\)(\\S)', r' ) \\1', text)  # Add space after ')'\n",
        "    text = re.sub(r'(\\S)\\)', r'\\1 ) ', text)  # Add space before ')'\n",
        "\n",
        "    # Remove multiple spaces if any\n",
        "    text = re.sub(r'\\s+', ' ', text).strip()\n",
        "\n",
        "    return text\n",
        "\n",
        "# Load data\n",
        "file_path = \"Import_Data Analytics_cleaned_cleaned.xlsx\"  # Change to your actual file path\n",
        "df = pd.read_excel(file_path)  # Use pd.read_csv(file_path) for CSV\n",
        "\n",
        "# Apply transformation to \"PRODUCT DESCRIPTION\"\n",
        "df[\"PRODUCT DESCRIPTION\"] = df[\"PRODUCT DESCRIPTION\"].astype(str).apply(fix_parentheses_spacing)\n",
        "\n",
        "# Save the modified file\n",
        "output_path = \"cleaned_file.xlsx\"\n",
        "df.to_excel(output_path, index=False)  # Use df.to_csv(\"cleaned_file.csv\", index=False) for CSV\n",
        "\n",
        "print(f\"File saved as {output_path}\")\n"
      ]
    },
    {
      "cell_type": "markdown",
      "source": [
        "Add space after word GRADE if not followed by \"-\" and if it is followed by \"-\" add space after hyphen"
      ],
      "metadata": {
        "id": "O73A6jeHPW_s"
      }
    },
    {
      "cell_type": "code",
      "source": [
        "import pandas as pd\n",
        "import re\n",
        "\n",
        "# Load Excel file\n",
        "file_path = \"cleaned_file.xlsx\"  # Change this to your file path\n",
        "df = pd.read_excel(file_path)\n",
        "\n",
        "# Function to modify PRODUCT DESCRIPTION\n",
        "def modify_description(description):\n",
        "    if pd.isna(description):  # Handle NaN values\n",
        "        return description\n",
        "\n",
        "    # List of words to modify\n",
        "    words_to_modify = [\"grade\", \"thickness\",\"width\",\"finish\",\"quality\"]\n",
        "\n",
        "    for word in words_to_modify:\n",
        "        # Add space after 'word' if not followed by space, '-', or ':'\n",
        "        description = re.sub(rf'(?i)\\b({word})(?=[A-Za-z0-9:])', r'\\1 ', description)\n",
        "        # Ensure space after ':' or '-' only if they are just after 'word' without space\n",
        "        description = re.sub(rf'(?i)\\b({word}):', r'\\1: ', description)\n",
        "        description = re.sub(rf'(?i)\\b({word})-', r'\\1- ', description)\n",
        "\n",
        "    # Ensure space after every ':'\n",
        "    description = re.sub(r':(?=[^\\s])', r': ', description)\n",
        "\n",
        "    return description\n",
        "\n",
        "# Apply function to PRODUCT DESCRIPTION column\n",
        "df[\"PRODUCT DESCRIPTION\"] = df[\"PRODUCT DESCRIPTION\"].astype(str).apply(modify_description)\n",
        "\n",
        "# Save modified file\n",
        "output_file = \"modified_file.xlsx\"\n",
        "df.to_excel(output_file, index=False)\n",
        "print(f\"Modified file saved as {output_file}\")"
      ],
      "metadata": {
        "colab": {
          "base_uri": "https://localhost:8080/"
        },
        "id": "FywcjhiiL5ci",
        "outputId": "156c9433-99ef-46eb-e7e2-169b1d82b12c"
      },
      "execution_count": 4,
      "outputs": [
        {
          "output_type": "stream",
          "name": "stdout",
          "text": [
            "Modified file saved as modified_file.xlsx\n"
          ]
        }
      ]
    },
    {
      "cell_type": "markdown",
      "metadata": {
        "id": "p2IcNCOyl5E6"
      },
      "source": [
        "Extracting Grade,Finish and Quality"
      ]
    },
    {
      "cell_type": "code",
      "execution_count": 5,
      "metadata": {
        "colab": {
          "base_uri": "https://localhost:8080/"
        },
        "id": "mBN3QqrAk0BJ",
        "outputId": "c3d4901b-1487-432d-eff4-7d29f8ee4860"
      },
      "outputs": [
        {
          "output_type": "stream",
          "name": "stdout",
          "text": [
            "Extraction completed! Results saved to output_dem.xlsx\n"
          ]
        }
      ],
      "source": [
        "import pandas as pd\n",
        "import json\n",
        "import re\n",
        "\n",
        "# Load Excel file\n",
        "file_path = \"modified_file.xlsx\"  # Update with your actual file path\n",
        "df = pd.read_excel(file_path)\n",
        "\n",
        "# Load grade and finish lists from JSON\n",
        "with open(\"Grades_json.json\", \"r\") as f:\n",
        "    grade_list = json.load(f)  # List of possible grades\n",
        "\n",
        "with open(\"Finish_json.json\", \"r\") as f:\n",
        "    finish_list = json.load(f)  # List of possible finishes\n",
        "\n",
        "# Function to extract grade, considering numeric and text-based grades\n",
        "def extract_grades(description, grade_list):\n",
        "    description = str(description)\n",
        "\n",
        "    # First, extract possible numeric grades (like 409)\n",
        "    match = re.search(r'\\b\\d{3,4}\\b', description)  # Match numbers with 3-4 digits\n",
        "    if match and match.group(0) in grade_list:\n",
        "        return match.group(0)  # If it's in grade_list, return it\n",
        "\n",
        "    # If no numeric grade, check for text-based grades\n",
        "    found_grades = []\n",
        "    for grade in grade_list:\n",
        "        pattern = rf\"\\b{re.escape(grade)}\\b\"  # Exact word match\n",
        "        if re.search(pattern, description, re.IGNORECASE):\n",
        "            found_grades.append(grade)\n",
        "\n",
        "    return max(found_grades, key=len) if found_grades else \"Other\"  # Select longest match\n",
        "\n",
        "# Function to extract the first occurrence of finish\n",
        "def extract_finish(description, finish_list):\n",
        "    # Check for \"no.x\" pattern first (case insensitive, ensuring it's not followed by another digit)\n",
        "    match = re.search(r'[nN][oO]\\.(\\d)(?!\\d)', str(description), re.IGNORECASE)\n",
        "    if match:\n",
        "        return f\"N{match.group(1)}\"  # Convert \"no.x\" to \"Nx\"\n",
        "\n",
        "    # Otherwise, check the predefined finish list\n",
        "    for finish in finish_list:\n",
        "        pattern = rf\"\\b{re.escape(finish)}\\b\"  # Exact word match\n",
        "        if re.search(pattern, str(description), re.IGNORECASE):\n",
        "            return finish\n",
        "    return \"?\"  # Add '?' if no finish is found\n",
        "\n",
        "# Function to extract quality\n",
        "def extract_quality(description):\n",
        "    match = re.search(r'\\b(Prime|Stock|Second)\\b', str(description), re.IGNORECASE)\n",
        "    return match.group(1) if match else '?'  # Returns '?' if no match is found\n",
        "\n",
        "# Ensure columns exist in DataFrame before updating\n",
        "df[\"Grade\"] = df[\"PRODUCT DESCRIPTION\"].apply(lambda x: extract_grades(x, grade_list))\n",
        "df[\"Finish\"] = df[\"PRODUCT DESCRIPTION\"].apply(lambda x: extract_finish(x, finish_list))\n",
        "df[\"Quality\"] = df[\"PRODUCT DESCRIPTION\"].apply(lambda x: extract_quality(x))\n",
        "\n",
        "# Save the updated DataFrame to a new Excel file\n",
        "output_file = \"output_dem.xlsx\"\n",
        "df.to_excel(output_file, index=False)\n",
        "\n",
        "print(f\"Extraction completed! Results saved to {output_file}\")\n"
      ]
    },
    {
      "cell_type": "code",
      "execution_count": 6,
      "metadata": {
        "colab": {
          "base_uri": "https://localhost:8080/"
        },
        "id": "d9eSTOeXkX_M",
        "outputId": "da37799c-09f0-45d3-9573-1cc93fafa502"
      },
      "outputs": [
        {
          "output_type": "stream",
          "name": "stdout",
          "text": [
            "Processing complete! Updated file saved as: testupdated_output_dem.xlsx\n"
          ]
        }
      ],
      "source": [
        "import pandas as pd\n",
        "import re\n",
        "\n",
        "def extract_width_thickness(description):\n",
        "    description = str(description).upper().strip()  # Normalize case and handle NaN\n",
        "\n",
        "    thickness = None\n",
        "    width = None\n",
        "\n",
        "    # Case with explicitly labeled THICKNESS and WIDTH inside parentheses\n",
        "    explicit_pattern = r'\\(\\s*THICKNESS\\s*[:\\-]?\\s*(\\d+\\.?\\d*)\\s*MM\\s*\\)\\s*\\(\\s*WIDTH\\s*[:\\-]?\\s*(\\d+\\.?\\d*)\\s*MM\\s*\\)'\n",
        "    explicit_match = re.search(explicit_pattern, description)\n",
        "\n",
        "    if explicit_match:\n",
        "        thickness = float(explicit_match.group(1))\n",
        "        width = float(explicit_match.group(2))\n",
        "    else:\n",
        "        # New Case: \"THICKNESS : 0.60MM WIDTH : 1240MM\"\n",
        "        new_pattern = r'THICKNESS\\s*[:\\-]?\\s*(\\d+(\\.\\d+)?)\\s*MM\\s*WIDTH\\s*[:\\-]?\\s*(\\d+(\\.\\d+)?)\\s*MM'\n",
        "        new_match = re.search(new_pattern, description)\n",
        "\n",
        "        if new_match:\n",
        "            thickness = float(new_match.group(1))\n",
        "            width = float(new_match.group(3))\n",
        "        else:\n",
        "            # Case with \"T\" notation\n",
        "            primary_pattern = r'(\\d+(\\.\\d+)?)\\s*T\\s*[*Xx]?\\s*(\\d+(\\.\\d+)?)\\s*MM(?:[*Xx]?(\\d+(\\.\\d+)?)\\s*MM)?'\n",
        "            match = re.search(primary_pattern, description)\n",
        "\n",
        "            if match:\n",
        "                thickness = float(match.group(1))\n",
        "                width = float(match.group(3)) if match.lastindex and match.lastindex >= 3 else None\n",
        "            else:\n",
        "                # Handle explicitly labeled \"THICKNESS\" and \"WIDTH\" without parentheses\n",
        "                labeled_pattern = r'THICKNESS[-:\\s]*(\\d+(\\.\\d+)?)\\s*MM\\s*[Xx]\\s*WIDTH[-:\\s]*(\\d+(\\.\\d+)?)\\s*MM'\n",
        "                labeled_match = re.search(labeled_pattern, description)\n",
        "\n",
        "                if labeled_match:\n",
        "                    thickness = float(labeled_match.group(1))\n",
        "                    width = float(labeled_match.group(3))\n",
        "                else:\n",
        "                    # Case with ranges like \"0.395-0.488 MM X 130-200 MM\"\n",
        "                    range_pattern = r'(\\d+(\\.\\d+)?)-(\\d+(\\.\\d+)?)\\s*MM\\s*[Xx]\\s*(\\d+(\\.\\d+)?)-(\\d+(\\.\\d+)?)\\s*MM'\n",
        "                    range_match = re.search(range_pattern, description)\n",
        "\n",
        "                    if range_match:\n",
        "                        thickness = f\"{range_match.group(1)}-{range_match.group(3)}\"\n",
        "                        width = f\"{range_match.group(5)}-{range_match.group(7)}\"\n",
        "                    else:\n",
        "                        # Pattern for cases like \"0.3*445*C\"\n",
        "                        asterisk_pattern = r'(\\d+(\\.\\d+)?)\\s*[*Xx]\\s*(\\d+(\\.\\d+)?)\\s*[*Xx]?\\s*\\w*'\n",
        "                        asterisk_match = re.search(asterisk_pattern, description)\n",
        "\n",
        "                        if asterisk_match:\n",
        "                            thickness = float(asterisk_match.group(1))\n",
        "                            width = float(asterisk_match.group(3))\n",
        "                        else:\n",
        "                            # Other common patterns\n",
        "                            patterns = [\n",
        "                                r'THICKNESS[-:\\s]*(\\d+(\\.\\d+)?)',\n",
        "                                r'WIDTH[:\\s-]*(\\d+(\\.\\d+)?)\\s*MM',\n",
        "                                r'THICK(?:NESS)?[:\\s-]*(\\d+(\\.\\d+)?)\\s*MM',\n",
        "                                r'(\\d+(\\.\\d+)?)\\s*MM\\s*[*Xx]?\\s*(\\d+(\\.\\d+)?)\\s*MM',\n",
        "                                r'(\\d+(\\.\\d+)?)\\s*[*Xx]?\\s*(\\d+(\\.\\d+)?)\\s*[*Xx]?\\s*(\\d+(\\.\\d+)?)\\s*MM',\n",
        "                                r'SIZE.*?(\\d+(\\.\\d+)?)\\s*MM\\s*[*Xx]?\\s*(\\d+(\\.\\d+)?)\\s*MM',\n",
        "                                r'(\\d+(\\.\\d+)?)\\s*MM\\s*X\\s*(\\d+(\\.\\d+)?)\\s*MM',\n",
        "                            ]\n",
        "\n",
        "                            for pattern in patterns:\n",
        "                                match = re.search(pattern, description)\n",
        "                                if match:\n",
        "                                    if \"THICKNESS\" in pattern and \"WIDTH\" in pattern:\n",
        "                                        thickness = float(match.group(1))\n",
        "                                        width = float(match.group(3))\n",
        "                                    elif \"THICKNESS\" in pattern:\n",
        "                                        thickness = float(match.group(1))\n",
        "                                    elif \"WIDTH\" in pattern:\n",
        "                                        width = float(match.group(1))\n",
        "                                    else:\n",
        "                                        thickness = float(match.group(1))\n",
        "                                        width = float(match.group(3)) if match.lastindex and match.lastindex >= 3 else None\n",
        "                                    break  # Stop after first valid match\n",
        "\n",
        "    # Format values for consistency\n",
        "    if thickness and isinstance(thickness, float):\n",
        "        thickness = f\"{thickness:.3f}\"\n",
        "    if width and isinstance(width, float):\n",
        "        width = f\"{width:.2f}\"\n",
        "\n",
        "    return thickness, width\n",
        "\n",
        "# Load Excel file\n",
        "input_file = \"output_dem.xlsx\"\n",
        "df = pd.read_excel(input_file)\n",
        "\n",
        "# Apply extraction function to each row\n",
        "df[['Thickness', 'Width']] = df['PRODUCT DESCRIPTION'].apply(lambda x: pd.Series(extract_width_thickness(x)))\n",
        "\n",
        "# Save the updated file\n",
        "output_file = \"testupdated_\" + input_file\n",
        "df.to_excel(output_file, index=False)\n",
        "\n",
        "print(f\"Processing complete! Updated file saved as: {output_file}\")\n"
      ]
    },
    {
      "cell_type": "code",
      "execution_count": null,
      "metadata": {
        "id": "Byd4jqKsq4iM"
      },
      "outputs": [],
      "source": []
    }
  ],
  "metadata": {
    "accelerator": "GPU",
    "colab": {
      "gpuType": "T4",
      "provenance": [],
      "authorship_tag": "ABX9TyPyJzLFCWwlFWcIeiijkpVW",
      "include_colab_link": true
    },
    "kernelspec": {
      "display_name": "Python 3",
      "name": "python3"
    },
    "language_info": {
      "name": "python"
    }
  },
  "nbformat": 4,
  "nbformat_minor": 0
}