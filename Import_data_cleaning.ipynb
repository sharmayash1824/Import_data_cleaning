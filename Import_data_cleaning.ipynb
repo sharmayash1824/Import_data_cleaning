{
  "cells": [
    {
      "cell_type": "markdown",
      "metadata": {
        "id": "view-in-github",
        "colab_type": "text"
      },
      "source": [
        "<a href=\"https://colab.research.google.com/github/sharmayash1824/Import_data_cleaning/blob/main/Import_data_cleaning.ipynb\" target=\"_parent\"><img src=\"https://colab.research.google.com/assets/colab-badge.svg\" alt=\"Open In Colab\"/></a>"
      ]
    },
    {
      "cell_type": "code",
      "execution_count": 8,
      "metadata": {
        "colab": {
          "base_uri": "https://localhost:8080/"
        },
        "id": "7uh1pxGTrXuU",
        "outputId": "f36beedc-97da-4871-c8cd-f7ae52807367"
      },
      "outputs": [
        {
          "output_type": "stream",
          "name": "stdout",
          "text": [
            "Cleaned data saved to: Import_Data Analytics_cleaned.xlsx\n"
          ]
        }
      ],
      "source": [
        "import pandas as pd\n",
        "import re\n",
        "\n",
        "def clean_product_descriptions(file_path, sheet_name=0, column_name='PRODUCT DESCRIPTION'):\n",
        "    # Load the Excel file\n",
        "    df = pd.read_excel(file_path, sheet_name=sheet_name)\n",
        "\n",
        "    # Ensure the column exists\n",
        "    if column_name not in df.columns:\n",
        "        raise ValueError(f\"Column '{column_name}' not found in the Excel file.\")\n",
        "\n",
        "    # Remove leading/trailing whitespace\n",
        "    df[column_name] = df[column_name].astype(str).str.strip()\n",
        "\n",
        "    # Function to remove repetitive phrases in product descriptions while ensuring correct formatting\n",
        "    def remove_redundancy(desc):\n",
        "        words = desc.split()\n",
        "        for i in range(1, len(words)):\n",
        "            phrase = \" \".join(words[:i])\n",
        "            if desc.count(phrase) > 1:\n",
        "                cleaned_desc = desc[:desc.rfind(phrase)].strip()\n",
        "                # Ensure meaningful data is retained\n",
        "                if len(cleaned_desc) > len(desc) * 0.6:\n",
        "                    return cleaned_desc\n",
        "        return desc  # Keep original if no significant repetition found\n",
        "\n",
        "    df[column_name] = df[column_name].apply(remove_redundancy)\n",
        "\n",
        "    # Save cleaned data to a new file without dropping duplicate rows\n",
        "    output_file = file_path.replace('.xlsx', '_cleaned.xlsx')\n",
        "    df.to_excel(output_file, index=False)\n",
        "\n",
        "    print(f\"Cleaned data saved to: {output_file}\")\n",
        "    return df\n",
        "\n",
        "# Example usage\n",
        "file_path = \"Import_Data Analytics.xlsx\"  # Update this path if needed\n",
        "cleaned_df = clean_product_descriptions(file_path)\n"
      ]
    },
    {
      "cell_type": "markdown",
      "metadata": {
        "id": "ogOcrOydlS4t"
      },
      "source": [
        "Remove repeat phrases.\n"
      ]
    },
    {
      "cell_type": "code",
      "execution_count": 9,
      "metadata": {
        "colab": {
          "base_uri": "https://localhost:8080/"
        },
        "id": "n5aJ40_TPE5r",
        "outputId": "d92aac0e-5907-4b6c-b737-717d3841e1d1"
      },
      "outputs": [
        {
          "output_type": "stream",
          "name": "stdout",
          "text": [
            "Cleaned data saved to: Import_Data Analytics_cleaned_cleaned.xlsx\n"
          ]
        }
      ],
      "source": [
        "\n",
        "import pandas as pd\n",
        "import re\n",
        "\n",
        "def clean_product_descriptions(file_path, sheet_name=0, column_name='PRODUCT DESCRIPTION'):\n",
        "    # Load the Excel file\n",
        "    df = pd.read_excel(file_path, sheet_name=sheet_name)\n",
        "\n",
        "    # Ensure the column exists\n",
        "    if column_name not in df.columns:\n",
        "        raise ValueError(f\"Column '{column_name}' not found in the Excel file.\")\n",
        "\n",
        "    # Remove leading/trailing whitespace\n",
        "    df[column_name] = df[column_name].astype(str).str.strip()\n",
        "\n",
        "    # Function to remove repetitive phrases in product descriptions while ensuring correct formatting\n",
        "    def remove_redundancy(desc):\n",
        "        match = re.search(r'^(.*?)(?: \\1)+$', desc)\n",
        "        if match:\n",
        "            return match.group(1).strip()\n",
        "        return desc  # Keep original if no significant repetition found\n",
        "\n",
        "    df[column_name] = df[column_name].apply(remove_redundancy)\n",
        "\n",
        "    # Save cleaned data to a new file without dropping duplicate rows\n",
        "    output_file = file_path.replace('.xlsx', '_cleaned.xlsx')\n",
        "    df.to_excel(output_file, index=False)\n",
        "\n",
        "    print(f\"Cleaned data saved to: {output_file}\")\n",
        "    return df\n",
        "\n",
        "# Example usage\n",
        "file_path = \"Import_Data Analytics_cleaned.xlsx\"  # Update this path if needed\n",
        "cleaned_df = clean_product_descriptions(file_path)\n"
      ]
    },
    {
      "cell_type": "markdown",
      "metadata": {
        "id": "HdY5eVMvlYjH"
      },
      "source": [
        "Add spaces before and after parenthesis.(but not in case of \"-(\"  beacause we have some grades in this\n",
        " format\n",
        ")\n",
        ":"
      ]
    },
    {
      "cell_type": "code",
      "execution_count": 17,
      "metadata": {
        "colab": {
          "base_uri": "https://localhost:8080/"
        },
        "id": "1eGrwXzKRfKq",
        "outputId": "a60d68cc-f7e0-44bf-ae67-547b5d90a598"
      },
      "outputs": [
        {
          "output_type": "stream",
          "name": "stdout",
          "text": [
            "Formatting complete. Saved as 'formatted_file.xlsx'.\n"
          ]
        }
      ],
      "source": [
        "# import pandas as pd\n",
        "# import re\n",
        "\n",
        "# # Function to ensure proper spacing around parentheses\n",
        "# def fix_parentheses_spacing(text):\n",
        "#     # Case 1: If '(' is preceded by '-', only add space after '('\n",
        "#     text = re.sub(r'-(\\()', r'- (', text)\n",
        "\n",
        "#     # Case 2: Ensure spaces before and after '(' except when preceded by '-'\n",
        "#     text = re.sub(r'(?<!-)(\\S)\\(', r'\\1 ( ', text)  # Add space before '(' if not after '-'\n",
        "\n",
        "#     # Case 3: Ensure spaces before and after ')'\n",
        "#     text = re.sub(r'\\)(\\S)', r' ) \\1', text)  # Add space after ')'\n",
        "#     text = re.sub(r'(\\S)\\)', r'\\1 ) ', text)  # Add space before ')'\n",
        "\n",
        "#     # Remove multiple spaces if any\n",
        "#     text = re.sub(r'\\s+', ' ', text).strip()\n",
        "\n",
        "#     return text\n",
        "\n",
        "# # Load data\n",
        "# file_path = \"Import_Data Analytics_cleaned_cleaned.xlsx\"  # Change to your actual file path\n",
        "# df = pd.read_excel(file_path)  # Use pd.read_csv(file_path) for CSV\n",
        "\n",
        "# # Apply transformation to \"PRODUCT DESCRIPTION\"\n",
        "# df[\"PRODUCT DESCRIPTION\"] = df[\"PRODUCT DESCRIPTION\"].astype(str).apply(fix_parentheses_spacing)\n",
        "\n",
        "# # Save the modified file\n",
        "# output_path = \"cleaned_file.xlsx\"\n",
        "# df.to_excel(output_path, index=False)  # Use df.to_csv(\"cleaned_file.csv\", index=False) for CSV\n",
        "\n",
        "# print(f\"File saved as {output_path}\")\n",
        "\n",
        "\n",
        "import pandas as pd\n",
        "import re\n",
        "\n",
        "# Function to add spaces before and after parentheses, but not for \"-(\"\n",
        "def format_description(text):\n",
        "    return re.sub(r'(?<!-)(\\()|(\\))(?!\\))', r' \\1\\2 ', text).strip()\n",
        "\n",
        "# Load your Excel file\n",
        "file_path = \"Import_Data Analytics_cleaned.xlsx\"  # Change this to your file path\n",
        "df = pd.read_excel(file_path)\n",
        "\n",
        "# Apply transformation to the \"PRODUCT DESCRIPTION\" column\n",
        "df[\"PRODUCT DESCRIPTION\"] = df[\"PRODUCT DESCRIPTION\"].astype(str).apply(format_description)\n",
        "\n",
        "# Save the modified file\n",
        "df.to_excel(\"cleaned_file.xlsx\", index=False)\n",
        "\n",
        "print(\"Formatting complete. Saved as 'formatted_file.xlsx'.\")\n"
      ]
    },
    {
      "cell_type": "markdown",
      "source": [
        "Add space after word GRADE if not followed by \"-\" and if it is followed by \"-\" add space after hyphen"
      ],
      "metadata": {
        "id": "O73A6jeHPW_s"
      }
    },
    {
      "cell_type": "code",
      "source": [
        "import pandas as pd\n",
        "import re\n",
        "\n",
        "# Load Excel file\n",
        "file_path = \"cleaned_file.xlsx\"  # Change this to your file path\n",
        "df = pd.read_excel(file_path)\n",
        "\n",
        "# Function to modify PRODUCT DESCRIPTION\n",
        "def modify_description(description):\n",
        "    if pd.isna(description):  # Handle NaN values\n",
        "        return description\n",
        "\n",
        "    # List of words to modify\n",
        "    words_to_modify = [\"grade\", \"thickness\",\"width\",\"finish\",\"quality\",\"is 6911\"]\n",
        "\n",
        "    for word in words_to_modify:\n",
        "        # Add space after 'word' if not followed by space, '-', or ':'\n",
        "        description = re.sub(rf'(?i)\\b({word})(?=[A-Za-z0-9:])', r'\\1 ', description)\n",
        "        # Ensure space after ':' or '-' only if they are just after 'word' without space\n",
        "        description = re.sub(rf'(?i)\\b({word}):', r'\\1: ', description)\n",
        "        description = re.sub(rf'(?i)\\b({word})-', r'\\1- ', description)\n",
        "\n",
        "    # Ensure space after every ':'\n",
        "    description = re.sub(r':(?=[^\\s])', r': ', description)\n",
        "\n",
        "    return description\n",
        "\n",
        "# Apply function to PRODUCT DESCRIPTION column\n",
        "df[\"PRODUCT DESCRIPTION\"] = df[\"PRODUCT DESCRIPTION\"].astype(str).apply(modify_description)\n",
        "\n",
        "# Save modified file\n",
        "output_file = \"modified_file.xlsx\"\n",
        "df.to_excel(output_file, index=False)\n",
        "print(f\"Modified file saved as {output_file}\")"
      ],
      "metadata": {
        "colab": {
          "base_uri": "https://localhost:8080/"
        },
        "id": "FywcjhiiL5ci",
        "outputId": "62eda2a6-5eb1-4527-eebe-0e6538941de3"
      },
      "execution_count": 18,
      "outputs": [
        {
          "output_type": "stream",
          "name": "stdout",
          "text": [
            "Modified file saved as modified_file.xlsx\n"
          ]
        }
      ]
    },
    {
      "cell_type": "markdown",
      "metadata": {
        "id": "p2IcNCOyl5E6"
      },
      "source": [
        "Extracting Grade,Finish and Quality"
      ]
    },
    {
      "cell_type": "code",
      "execution_count": 19,
      "metadata": {
        "colab": {
          "base_uri": "https://localhost:8080/"
        },
        "id": "mBN3QqrAk0BJ",
        "outputId": "d7cd689f-cede-4d44-bd4e-3fd2bf484a7c"
      },
      "outputs": [
        {
          "output_type": "stream",
          "name": "stdout",
          "text": [
            "Extraction completed! Results saved to output_dem.xlsx\n"
          ]
        }
      ],
      "source": [
        "import pandas as pd\n",
        "import json\n",
        "import re\n",
        "\n",
        "# Load Excel file\n",
        "file_path = \"modified_file.xlsx\"  # Update with your actual file path\n",
        "df = pd.read_excel(file_path)\n",
        "\n",
        "# Load grade and finish lists from JSON\n",
        "with open(\"Grades_json.json\", \"r\") as f:\n",
        "    grade_list = json.load(f)  # List of possible grades\n",
        "\n",
        "with open(\"Finish_json.json\", \"r\") as f:\n",
        "    finish_list = json.load(f)  # List of possible finishes\n",
        "\n",
        "# Function to extract grade, considering numeric and text-based grades\n",
        "def extract_grades(description, grade_list):\n",
        "    description = str(description)\n",
        "\n",
        "    # First, extract possible numeric grades (like 409)\n",
        "    match = re.search(r'\\b\\d{3,4}\\b', description)  # Match numbers with 3-4 digits\n",
        "    if match and match.group(0) in grade_list:\n",
        "        return match.group(0)  # If it's in grade_list, return it\n",
        "\n",
        "    # If no numeric grade, check for text-based grades\n",
        "    found_grades = []\n",
        "    for grade in grade_list:\n",
        "        pattern = rf\"\\b{re.escape(grade)}\\b\"  # Exact word match\n",
        "        if re.search(pattern, description, re.IGNORECASE):\n",
        "            found_grades.append(grade)\n",
        "\n",
        "    return max(found_grades, key=len) if found_grades else \"Other\"  # Select longest match\n",
        "\n",
        "# Function to extract the first occurrence of finish\n",
        "def extract_finish(description, finish_list):\n",
        "    # Check for \"no.x\" pattern first (case insensitive, ensuring it's not followed by another digit)\n",
        "    match = re.search(r'[nN][oO]\\.(\\d)(?!\\d)', str(description), re.IGNORECASE)\n",
        "    if match:\n",
        "        return f\"N{match.group(1)}\"  # Convert \"no.x\" to \"Nx\"\n",
        "\n",
        "    # Otherwise, check the predefined finish list\n",
        "    for finish in finish_list:\n",
        "        pattern = rf\"\\b{re.escape(finish)}\\b\"  # Exact word match\n",
        "        if re.search(pattern, str(description), re.IGNORECASE):\n",
        "            return finish\n",
        "    return \"?\"  # Add '?' if no finish is found\n",
        "\n",
        "# Function to extract quality\n",
        "def extract_quality(description):\n",
        "    match = re.search(r'\\b(Prime|Stock|Second)\\b', str(description), re.IGNORECASE)\n",
        "    return match.group(1) if match else '?'  # Returns '?' if no match is found\n",
        "\n",
        "# Ensure columns exist in DataFrame before updating\n",
        "df[\"Grade\"] = df[\"PRODUCT DESCRIPTION\"].apply(lambda x: extract_grades(x, grade_list))\n",
        "df[\"Finish\"] = df[\"PRODUCT DESCRIPTION\"].apply(lambda x: extract_finish(x, finish_list))\n",
        "df[\"Quality\"] = df[\"PRODUCT DESCRIPTION\"].apply(lambda x: extract_quality(x))\n",
        "\n",
        "# Save the updated DataFrame to a new Excel file\n",
        "output_file = \"output_dem.xlsx\"\n",
        "df.to_excel(output_file, index=False)\n",
        "\n",
        "print(f\"Extraction completed! Results saved to {output_file}\")\n"
      ]
    },
    {
      "cell_type": "code",
      "execution_count": 20,
      "metadata": {
        "colab": {
          "base_uri": "https://localhost:8080/"
        },
        "id": "d9eSTOeXkX_M",
        "outputId": "4247f0cd-cefb-4da2-b74f-b9fbf8e96918"
      },
      "outputs": [
        {
          "output_type": "stream",
          "name": "stdout",
          "text": [
            "Processing complete! Updated file saved as: testupdated_output_dem.xlsx\n"
          ]
        }
      ],
      "source": [
        "import pandas as pd\n",
        "import re\n",
        "\n",
        "def extract_width_thickness(description):\n",
        "    description = str(description).upper().strip()  # Normalize case and handle NaN\n",
        "\n",
        "    thickness = None\n",
        "    width = None\n",
        "\n",
        "    # Case with explicitly labeled thickness variations (THICKNESS, THICK, THK) and WIDTH inside parentheses\n",
        "    explicit_pattern = r'\\(\\s*(?:THICKNESS|THICK|THK)\\s*[:\\-]?\\s*(\\d+\\.?\\d*)\\s*MM\\s*\\)\\s*\\(\\s*WIDTH\\s*[:\\-]?\\s*(\\d+\\.?\\d*)\\s*MM\\s*\\)'\n",
        "    explicit_match = re.search(explicit_pattern, description)\n",
        "\n",
        "    if explicit_match:\n",
        "        thickness = float(explicit_match.group(1))\n",
        "        width = float(explicit_match.group(2))\n",
        "    else:\n",
        "        # New Case: \"THICKNESS : 0.60MM WIDTH : 1240MM\" with variations\n",
        "        new_pattern = r'(?:THICKNESS|THICK|THK)\\s*[:\\-]?\\s*(\\d+(\\.\\d+)?)\\s*MM\\s*WIDTH\\s*[:\\-]?\\s*(\\d+(\\.\\d+)?)\\s*MM'\n",
        "        new_match = re.search(new_pattern, description)\n",
        "\n",
        "        if new_match:\n",
        "            thickness = float(new_match.group(1))\n",
        "            width = float(new_match.group(3))\n",
        "        else:\n",
        "            # Case with \"T\" and \"W\" notation\n",
        "            primary_pattern = r'(\\d+(\\.\\d+)?)\\s*T\\s*[*Xx]?\\s*(\\d+(\\.\\d+)?)\\s*MM[Xx](\\d+(\\.\\d+)?)\\s*MM'\n",
        "            match = re.search(primary_pattern, description)\n",
        "\n",
        "            if match:\n",
        "                thickness = float(match.group(1))\n",
        "                width = float(match.group(3))\n",
        "            else:\n",
        "                # Handle explicitly labeled variations\n",
        "                labeled_pattern = r'(?:THICKNESS|THICK|THK)[-:\\s]*(\\d+(\\.\\d+)?)\\s*MM\\s*[Xx]\\s*WIDTH[-:\\s]*(\\d+(\\.\\d+)?)\\s*MM'\n",
        "                labeled_match = re.search(labeled_pattern, description)\n",
        "\n",
        "                if labeled_match:\n",
        "                    thickness = float(labeled_match.group(1))\n",
        "                    width = float(labeled_match.group(3))\n",
        "                else:\n",
        "                    # Case with dimensions inside parentheses\n",
        "                    parenthesis_pattern = r'\\((\\d+(\\.\\d+)?)T[Xx](\\d+(\\.\\d+)?)MM[Xx](\\d+(\\.\\d+)?)MM\\)'\n",
        "                    parenthesis_match = re.search(parenthesis_pattern, description)\n",
        "\n",
        "                    if parenthesis_match:\n",
        "                        thickness = float(parenthesis_match.group(1))\n",
        "                        width = float(parenthesis_match.group(3))\n",
        "                    else:\n",
        "                        # Handle WIDTH ABOVE XXX and WIDTH BELOW XXX\n",
        "                        width_above_pattern = r'WIDTH\\s*ABOVE\\s*(\\d+(\\.\\d+)?)'\n",
        "                        width_below_pattern = r'WIDTH\\s*BELOW\\s*(\\d+(\\.\\d+)?)'\n",
        "\n",
        "                        width_above_match = re.search(width_above_pattern, description)\n",
        "                        width_below_match = re.search(width_below_pattern, description)\n",
        "\n",
        "                        if width_above_match:\n",
        "                            width = f\">{width_above_match.group(1)}\"\n",
        "                        elif width_below_match:\n",
        "                            width = f\"<{width_below_match.group(1)}\"\n",
        "                        else:\n",
        "                            # Special case for 0.5TX366.0WX1122.0L format\n",
        "                            special_pattern = r'(\\d+(\\.\\d+)?)T[Xx](\\d+(\\.\\d+)?)W[Xx](\\d+(\\.\\d+)?)L'\n",
        "                            special_match = re.search(special_pattern, description)\n",
        "\n",
        "                            if special_match:\n",
        "                                thickness = float(special_match.group(1))\n",
        "                                width = float(special_match.group(3))\n",
        "                            else:\n",
        "                                # Additional case: \"THICK 0.38X620MM\"\n",
        "                                thick_width_pattern = r'(?:THICKNESS|THICK|THK)\\s*(\\d+(\\.\\d+)?)\\s*[Xx]\\s*(\\d+(\\.\\d+)?)\\s*MM'\n",
        "                                thick_width_match = re.search(thick_width_pattern, description)\n",
        "\n",
        "                                if thick_width_match:\n",
        "                                    thickness = float(thick_width_match.group(1))\n",
        "                                    width = float(thick_width_match.group(3))\n",
        "                                else:\n",
        "                                    # Other common patterns\n",
        "                                    patterns = [\n",
        "                                        r'(?:THICKNESS|THICK|THK)[-:\\s]*(\\d+(\\.\\d+)?)',\n",
        "                                        r'WIDTH[:\\s-]*(\\d+(\\.\\d+)?)\\s*MM',\n",
        "                                        r'THICK(?:NESS|)[-:\\s]*(\\d+(\\.\\d+)?)\\s*MM',\n",
        "                                        r'(\\d+(\\.\\d+)?)\\s*MM\\s*[*Xx]?\\s*(\\d+(\\.\\d+)?)\\s*MM',\n",
        "                                        r'(\\d+(\\.\\d+)?)\\s*[*Xx]?\\s*(\\d+(\\.\\d+)?)\\s*[*Xx]?\\s*(\\d+(\\.\\d+)?)\\s*MM',\n",
        "                                        r'SIZE.*?(\\d+(\\.\\d+)?)\\s*MM\\s*[*Xx]?\\s*(\\d+(\\.\\d+)?)\\s*MM',\n",
        "                                        r'(\\d+(\\.\\d+)?)\\s*MM\\s*X\\s*(\\d+(\\.\\d+)?)\\s*MM',\n",
        "                                    ]\n",
        "\n",
        "                                    for pattern in patterns:\n",
        "                                        match = re.search(pattern, description)\n",
        "                                        if match:\n",
        "                                            thickness = float(match.group(1))\n",
        "                                            width = float(match.group(3)) if match.lastindex and match.lastindex >= 3 else None\n",
        "                                            break  # Stop after first valid match\n",
        "\n",
        "    # Format values for consistency\n",
        "    if thickness and isinstance(thickness, float):\n",
        "        thickness = f\"{thickness:.3f}\"\n",
        "    if width and isinstance(width, float):\n",
        "        width = f\"{width:.2f}\"\n",
        "\n",
        "    return thickness, width\n",
        "\n",
        "# Load Excel file\n",
        "input_file = \"output_dem.xlsx\"\n",
        "df = pd.read_excel(input_file)\n",
        "\n",
        "# Apply extraction function to each row\n",
        "df[['Thickness', 'Width']] = df['PRODUCT DESCRIPTION'].apply(lambda x: pd.Series(extract_width_thickness(x)))\n",
        "\n",
        "# Save the updated file\n",
        "output_file = \"testupdated_\" + input_file\n",
        "df.to_excel(output_file, index=False)\n",
        "\n",
        "print(f\"Processing complete! Updated file saved as: {output_file}\")\n"
      ]
    },
    {
      "cell_type": "code",
      "execution_count": 16,
      "metadata": {
        "id": "Byd4jqKsq4iM"
      },
      "outputs": [],
      "source": []
    }
  ],
  "metadata": {
    "accelerator": "GPU",
    "colab": {
      "gpuType": "T4",
      "provenance": [],
      "authorship_tag": "ABX9TyNMr2kRhBT5agZq2/mZsasL",
      "include_colab_link": true
    },
    "kernelspec": {
      "display_name": "Python 3",
      "name": "python3"
    },
    "language_info": {
      "name": "python"
    }
  },
  "nbformat": 4,
  "nbformat_minor": 0
}